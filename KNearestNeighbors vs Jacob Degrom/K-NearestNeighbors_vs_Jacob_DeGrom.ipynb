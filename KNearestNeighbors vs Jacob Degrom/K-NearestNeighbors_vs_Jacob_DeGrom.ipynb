{
 "cells": [
  {
   "cell_type": "code",
   "execution_count": 119,
   "id": "820963ff",
   "metadata": {},
   "outputs": [],
   "source": [
    "import sklearn.metrics\n",
    "import sklearn.model_selection\n",
    "import sklearn.neighbors\n",
    "import pandas as pd\n",
    "import numpy as np\n",
    "import seaborn as sns\n",
    "import matplotlib.pyplot as plt\n",
    "from sklearn.pipeline import Pipeline\n",
    "from sklearn.preprocessing import StandardScaler\n",
    "from sklearn.neighbors import KNeighborsClassifier\n",
    "from sklearn.neighbors import KNeighborsRegressor\n",
    "from sklearn.model_selection import GridSearchCV\n",
    "from scipy import stats\n",
    "from sklearn.preprocessing import MinMaxScaler\n",
    "from sklearn.model_selection import train_test_split\n",
    "from sklearn.ensemble import RandomForestClassifier\n",
    "from sklearn.ensemble import RandomForestRegressor"
   ]
  },
  {
   "cell_type": "markdown",
   "id": "f4cc17d4",
   "metadata": {},
   "source": [
    "## Can K-Nearest Neighbors Reveal Tipped Pitches?"
   ]
  },
  {
   "cell_type": "code",
   "execution_count": null,
   "id": "07dcd45a",
   "metadata": {},
   "outputs": [],
   "source": [
    "from pybaseball import statcast_pitcher\n",
    "degrom_stats = statcast_pitcher('2021-04-01', '2021-07-26', 594798)"
   ]
  },
  {
   "cell_type": "markdown",
   "id": "ea9d21b5",
   "metadata": {},
   "source": [
    "For this mini project, I'm going to use pitching data from Major League Baseball. In Baseball, there is a concept called \"tipping pitches\", which means that some pitchers are prone to **unintentionally** telegraphing *which* type of pitch they are about to throw. Knowing what kind of pitch is coming can be invaluable information to a batter, as it can assist them in timing their swing better, or help them better decide if they want to swing at all. The best pitchers very rarely show any difference between their pitch types, as deception is key in getting batters out. Let's see if KNN can do better than the human eye and properly predict what pitch is coming based on some measured attributes prior to the release of the ball, namely: release position on an x axis, y axis, z axis, and release speed. Many other attributes exist in this dataset, but they might provide an unfair insight that would be impossible to react to in the moment, so they will be discarded.\n",
    "\n",
    "### Jacob DeGrom vs KNN:\n",
    "One of the most dominant pitchers this 2021 season is Jacob DeGrom, a player for the New York Mets. DeGrom throws 4pitches classified by MLB's stat tracker:"
   ]
  },
  {
   "cell_type": "code",
   "execution_count": 39,
   "id": "edc5ce8f",
   "metadata": {},
   "outputs": [
    {
     "data": {
      "text/plain": [
       "array(['FF', 'SL', 'CH', 'CU'], dtype=object)"
      ]
     },
     "execution_count": 39,
     "metadata": {},
     "output_type": "execute_result"
    }
   ],
   "source": [
    "degrom_stats.pitch_type.unique()"
   ]
  },
  {
   "cell_type": "markdown",
   "id": "8094a0f8",
   "metadata": {},
   "source": [
    "- Changeup - (**CH**)\n",
    "- Slider (**SL**)\n",
    "- 4-Seam Fastball (**FF**)\n",
    "- Curveball (**CU**)\n",
    "\n",
    "Each of these pitches has very different movement patterns and speeds, but let's see if KNN can tell the difference based on their release point(x, y, z) and release speed."
   ]
  },
  {
   "cell_type": "markdown",
   "id": "8ccf9a40",
   "metadata": {},
   "source": [
    "### Data Pre-Processing\n",
    "As mentioned, many of the columns will be discarded. The data will also be scaled using MinMax.\n",
    "Again, our output variable of interest is **pitch_type**."
   ]
  },
  {
   "cell_type": "code",
   "execution_count": 40,
   "id": "0e411e87",
   "metadata": {},
   "outputs": [
    {
     "data": {
      "text/html": [
       "<div>\n",
       "<style scoped>\n",
       "    .dataframe tbody tr th:only-of-type {\n",
       "        vertical-align: middle;\n",
       "    }\n",
       "\n",
       "    .dataframe tbody tr th {\n",
       "        vertical-align: top;\n",
       "    }\n",
       "\n",
       "    .dataframe thead th {\n",
       "        text-align: right;\n",
       "    }\n",
       "</style>\n",
       "<table border=\"1\" class=\"dataframe\">\n",
       "  <thead>\n",
       "    <tr style=\"text-align: right;\">\n",
       "      <th></th>\n",
       "      <th>release_speed</th>\n",
       "      <th>release_pos_x</th>\n",
       "      <th>release_pos_y</th>\n",
       "      <th>release_pos_z</th>\n",
       "    </tr>\n",
       "  </thead>\n",
       "  <tbody>\n",
       "    <tr>\n",
       "      <th>0</th>\n",
       "      <td>100.2</td>\n",
       "      <td>-1.00</td>\n",
       "      <td>53.59</td>\n",
       "      <td>5.35</td>\n",
       "    </tr>\n",
       "    <tr>\n",
       "      <th>1</th>\n",
       "      <td>92.8</td>\n",
       "      <td>-1.04</td>\n",
       "      <td>53.66</td>\n",
       "      <td>5.47</td>\n",
       "    </tr>\n",
       "    <tr>\n",
       "      <th>2</th>\n",
       "      <td>99.4</td>\n",
       "      <td>-1.13</td>\n",
       "      <td>53.78</td>\n",
       "      <td>5.44</td>\n",
       "    </tr>\n",
       "    <tr>\n",
       "      <th>3</th>\n",
       "      <td>99.5</td>\n",
       "      <td>-1.15</td>\n",
       "      <td>53.78</td>\n",
       "      <td>5.43</td>\n",
       "    </tr>\n",
       "    <tr>\n",
       "      <th>4</th>\n",
       "      <td>98.7</td>\n",
       "      <td>-1.09</td>\n",
       "      <td>53.79</td>\n",
       "      <td>5.46</td>\n",
       "    </tr>\n",
       "  </tbody>\n",
       "</table>\n",
       "</div>"
      ],
      "text/plain": [
       "   release_speed  release_pos_x  release_pos_y  release_pos_z\n",
       "0          100.2          -1.00          53.59           5.35\n",
       "1           92.8          -1.04          53.66           5.47\n",
       "2           99.4          -1.13          53.78           5.44\n",
       "3           99.5          -1.15          53.78           5.43\n",
       "4           98.7          -1.09          53.79           5.46"
      ]
     },
     "execution_count": 40,
     "metadata": {},
     "output_type": "execute_result"
    }
   ],
   "source": [
    "# Select only relevant attributes\n",
    "X = degrom_stats[['release_speed', 'release_pos_x', 'release_pos_y', 'release_pos_z']]\n",
    "X.head(5)"
   ]
  },
  {
   "cell_type": "code",
   "execution_count": 44,
   "id": "97d6cd47",
   "metadata": {},
   "outputs": [],
   "source": [
    "# Scale features\n",
    "mm_scale = MinMaxScaler()\n",
    "X = mm_scale.fit_transform(X)"
   ]
  },
  {
   "cell_type": "code",
   "execution_count": 50,
   "id": "8f124e55",
   "metadata": {},
   "outputs": [
    {
     "data": {
      "text/plain": [
       "array(['FF', 'SL', 'FF', ..., 'FF', 'FF', 'FF'], dtype=object)"
      ]
     },
     "execution_count": 50,
     "metadata": {},
     "output_type": "execute_result"
    }
   ],
   "source": [
    "# Make array of y values\n",
    "y = np.ravel(degrom_stats[['pitch_type']].values)\n",
    "y"
   ]
  },
  {
   "cell_type": "markdown",
   "id": "d2859c34",
   "metadata": {},
   "source": [
    "#### Split Data"
   ]
  },
  {
   "cell_type": "code",
   "execution_count": 53,
   "id": "a1bcc2b7",
   "metadata": {},
   "outputs": [],
   "source": [
    "X_train, X_test, y_train, y_test = train_test_split(X, y, test_size=0.3, random_state=42)"
   ]
  },
  {
   "cell_type": "markdown",
   "id": "efeee412",
   "metadata": {},
   "source": [
    "### Model Construction\n",
    "#### Basic Model, untuned:"
   ]
  },
  {
   "cell_type": "code",
   "execution_count": 58,
   "id": "029bc0f2",
   "metadata": {},
   "outputs": [
    {
     "name": "stdout",
     "output_type": "stream",
     "text": [
      "Accuracy of untuned KNN Classifier 0.9538043478260869\n"
     ]
    }
   ],
   "source": [
    "knn_c = KNeighborsClassifier()\n",
    "knn_c.fit(X_train, y_train)\n",
    "print(\"Accuracy of untuned KNN Classifier\", knn_c.score(X_test, y_test))"
   ]
  },
  {
   "cell_type": "markdown",
   "id": "a8feca92",
   "metadata": {},
   "source": [
    "Amazing results! So, even one of the best pitchers in the world would fear a KNN-powered robot batter. Let's see if we can do better.\n",
    "#### Tuning K"
   ]
  },
  {
   "cell_type": "code",
   "execution_count": 99,
   "id": "336618b3",
   "metadata": {},
   "outputs": [
    {
     "name": "stderr",
     "output_type": "stream",
     "text": [
      "/usr/local/lib/python3.9/site-packages/sklearn/model_selection/_split.py:666: UserWarning: The least populated class in y has only 4 members, which is less than n_splits=5.\n",
      "  warnings.warn((\"The least populated class in y has only %d\"\n"
     ]
    },
    {
     "data": {
      "text/plain": [
       "{'n_neighbors': 14, 'weights': 'uniform'}"
      ]
     },
     "execution_count": 99,
     "metadata": {},
     "output_type": "execute_result"
    }
   ],
   "source": [
    "param_grid = {'weights': ['distance', 'uniform'], 'n_neighbors': [i for i in range(1,15)]}\n",
    "grid_search = GridSearchCV(knn_c, param_grid, scoring = \"accuracy\")\n",
    "grid_search.fit(X, y)\n",
    "grid_search.best_params_"
   ]
  },
  {
   "cell_type": "markdown",
   "id": "7a61eeed",
   "metadata": {},
   "source": [
    "We end up with changing the parameters to k = 14, and the weights remain uniform (as is the default)."
   ]
  },
  {
   "cell_type": "code",
   "execution_count": 102,
   "id": "c559d40d",
   "metadata": {},
   "outputs": [
    {
     "name": "stdout",
     "output_type": "stream",
     "text": [
      "Test Accuracy: 0.9619565217391305\n"
     ]
    }
   ],
   "source": [
    "grid_search.best_estimator_.fit(X_train, y_train)\n",
    "print(\"Test Accuracy:\",grid_search.best_estimator_.score(X_test, y_test))"
   ]
  },
  {
   "cell_type": "code",
   "execution_count": 103,
   "id": "b79e01e3",
   "metadata": {},
   "outputs": [
    {
     "name": "stdout",
     "output_type": "stream",
     "text": [
      "Training Accuracy: 0.9603729603729604\n"
     ]
    }
   ],
   "source": [
    "print(\"Training Accuracy:\", grid_search.best_estimator_.score(X_train, y_train))"
   ]
  },
  {
   "cell_type": "markdown",
   "id": "2fb4b2b4",
   "metadata": {},
   "source": [
    "### Results\n",
    "After the tuning, it looks like we were able to achieve just under a 1% increase in accuracy over the base model.\n",
    "Still, KNN has proved a valuable predictor of pitches. Perhaps KNN and other machine learning algorithms can assist batters in picking up on subtle physical queues that pitchers give.\n",
    "#### Overfitting\n",
    "The model doesn't overfit, as it generalizes well to the test set as well."
   ]
  }
 ],
 "metadata": {
  "kernelspec": {
   "display_name": "Python 3",
   "language": "python",
   "name": "python3"
  },
  "language_info": {
   "codemirror_mode": {
    "name": "ipython",
    "version": 3
   },
   "file_extension": ".py",
   "mimetype": "text/x-python",
   "name": "python",
   "nbconvert_exporter": "python",
   "pygments_lexer": "ipython3",
   "version": "3.9.5"
  }
 },
 "nbformat": 4,
 "nbformat_minor": 5
}
