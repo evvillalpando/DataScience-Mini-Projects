{
 "cells": [
  {
   "cell_type": "code",
   "execution_count": 9,
   "id": "26aa6ee4",
   "metadata": {},
   "outputs": [],
   "source": [
    "# imports\n",
    "import pandas as pd\n",
    "import numpy as np\n",
    "import seaborn as sns\n",
    "from sklearn.preprocessing import MinMaxScaler\n",
    "from sklearn.model_selection import train_test_split\n",
    "from sklearn import tree\n",
    "from sklearn.model_selection import GridSearchCV\n",
    "import sklearn.metrics\n",
    "from sklearn.model_selection import cross_val_score\n",
    "from sklearn.model_selection import validation_curve\n",
    "import matplotlib.pyplot as plt\n",
    "from sklearn.ensemble import RandomForestClassifier"
   ]
  },
  {
   "cell_type": "markdown",
   "id": "dd7268eb",
   "metadata": {},
   "source": [
    "# Distinguishing Autism from PDD with Trees\n",
    "**How predictable is Autism Spectrum Disorder at age 2, and can Random Forests and Decision Trees help discern it from PDD?**\n",
    "\n",
    "The outcome variable of interest is \"bestest2\", which is a binary variable showing whether the child has Autism or PDD (Pervasive Developmental Disorder--generally considered as showing signs of autism, but below the threshold of being able to classify it as Autism)"
   ]
  },
  {
   "cell_type": "markdown",
   "id": "2febd653",
   "metadata": {},
   "source": [
    "## Data Import"
   ]
  },
  {
   "cell_type": "code",
   "execution_count": 10,
   "id": "1de9fca1",
   "metadata": {},
   "outputs": [
    {
     "data": {
      "text/html": [
       "<div>\n",
       "<style scoped>\n",
       "    .dataframe tbody tr th:only-of-type {\n",
       "        vertical-align: middle;\n",
       "    }\n",
       "\n",
       "    .dataframe tbody tr th {\n",
       "        vertical-align: top;\n",
       "    }\n",
       "\n",
       "    .dataframe thead th {\n",
       "        text-align: right;\n",
       "    }\n",
       "</style>\n",
       "<table border=\"1\" class=\"dataframe\">\n",
       "  <thead>\n",
       "    <tr style=\"text-align: right;\">\n",
       "      <th></th>\n",
       "      <th>Unnamed: 0</th>\n",
       "      <th>childid</th>\n",
       "      <th>sicdegp</th>\n",
       "      <th>age2</th>\n",
       "      <th>vsae</th>\n",
       "      <th>gender</th>\n",
       "      <th>race</th>\n",
       "      <th>bestest2</th>\n",
       "    </tr>\n",
       "  </thead>\n",
       "  <tbody>\n",
       "    <tr>\n",
       "      <th>0</th>\n",
       "      <td>1</td>\n",
       "      <td>1</td>\n",
       "      <td>high</td>\n",
       "      <td>0</td>\n",
       "      <td>6</td>\n",
       "      <td>male</td>\n",
       "      <td>white</td>\n",
       "      <td>pdd</td>\n",
       "    </tr>\n",
       "    <tr>\n",
       "      <th>1</th>\n",
       "      <td>2</td>\n",
       "      <td>1</td>\n",
       "      <td>high</td>\n",
       "      <td>1</td>\n",
       "      <td>7</td>\n",
       "      <td>male</td>\n",
       "      <td>white</td>\n",
       "      <td>pdd</td>\n",
       "    </tr>\n",
       "    <tr>\n",
       "      <th>2</th>\n",
       "      <td>3</td>\n",
       "      <td>1</td>\n",
       "      <td>high</td>\n",
       "      <td>3</td>\n",
       "      <td>18</td>\n",
       "      <td>male</td>\n",
       "      <td>white</td>\n",
       "      <td>pdd</td>\n",
       "    </tr>\n",
       "    <tr>\n",
       "      <th>3</th>\n",
       "      <td>4</td>\n",
       "      <td>1</td>\n",
       "      <td>high</td>\n",
       "      <td>7</td>\n",
       "      <td>25</td>\n",
       "      <td>male</td>\n",
       "      <td>white</td>\n",
       "      <td>pdd</td>\n",
       "    </tr>\n",
       "    <tr>\n",
       "      <th>4</th>\n",
       "      <td>5</td>\n",
       "      <td>1</td>\n",
       "      <td>high</td>\n",
       "      <td>11</td>\n",
       "      <td>27</td>\n",
       "      <td>male</td>\n",
       "      <td>white</td>\n",
       "      <td>pdd</td>\n",
       "    </tr>\n",
       "    <tr>\n",
       "      <th>...</th>\n",
       "      <td>...</td>\n",
       "      <td>...</td>\n",
       "      <td>...</td>\n",
       "      <td>...</td>\n",
       "      <td>...</td>\n",
       "      <td>...</td>\n",
       "      <td>...</td>\n",
       "      <td>...</td>\n",
       "    </tr>\n",
       "    <tr>\n",
       "      <th>599</th>\n",
       "      <td>608</td>\n",
       "      <td>97</td>\n",
       "      <td>high</td>\n",
       "      <td>11</td>\n",
       "      <td>50</td>\n",
       "      <td>male</td>\n",
       "      <td>nonwhite</td>\n",
       "      <td>pdd</td>\n",
       "    </tr>\n",
       "    <tr>\n",
       "      <th>600</th>\n",
       "      <td>609</td>\n",
       "      <td>99</td>\n",
       "      <td>low</td>\n",
       "      <td>0</td>\n",
       "      <td>9</td>\n",
       "      <td>male</td>\n",
       "      <td>nonwhite</td>\n",
       "      <td>autism</td>\n",
       "    </tr>\n",
       "    <tr>\n",
       "      <th>601</th>\n",
       "      <td>610</td>\n",
       "      <td>99</td>\n",
       "      <td>low</td>\n",
       "      <td>1</td>\n",
       "      <td>13</td>\n",
       "      <td>male</td>\n",
       "      <td>nonwhite</td>\n",
       "      <td>autism</td>\n",
       "    </tr>\n",
       "    <tr>\n",
       "      <th>602</th>\n",
       "      <td>611</td>\n",
       "      <td>99</td>\n",
       "      <td>low</td>\n",
       "      <td>3</td>\n",
       "      <td>10</td>\n",
       "      <td>male</td>\n",
       "      <td>nonwhite</td>\n",
       "      <td>autism</td>\n",
       "    </tr>\n",
       "    <tr>\n",
       "      <th>603</th>\n",
       "      <td>612</td>\n",
       "      <td>99</td>\n",
       "      <td>low</td>\n",
       "      <td>7</td>\n",
       "      <td>12</td>\n",
       "      <td>male</td>\n",
       "      <td>nonwhite</td>\n",
       "      <td>autism</td>\n",
       "    </tr>\n",
       "  </tbody>\n",
       "</table>\n",
       "<p>604 rows × 8 columns</p>\n",
       "</div>"
      ],
      "text/plain": [
       "     Unnamed: 0  childid sicdegp  age2  vsae gender      race bestest2\n",
       "0             1        1    high     0     6   male     white      pdd\n",
       "1             2        1    high     1     7   male     white      pdd\n",
       "2             3        1    high     3    18   male     white      pdd\n",
       "3             4        1    high     7    25   male     white      pdd\n",
       "4             5        1    high    11    27   male     white      pdd\n",
       "..          ...      ...     ...   ...   ...    ...       ...      ...\n",
       "599         608       97    high    11    50   male  nonwhite      pdd\n",
       "600         609       99     low     0     9   male  nonwhite   autism\n",
       "601         610       99     low     1    13   male  nonwhite   autism\n",
       "602         611       99     low     3    10   male  nonwhite   autism\n",
       "603         612       99     low     7    12   male  nonwhite   autism\n",
       "\n",
       "[604 rows x 8 columns]"
      ]
     },
     "execution_count": 10,
     "metadata": {},
     "output_type": "execute_result"
    }
   ],
   "source": [
    "autism = pd.read_csv(\"autism.csv\")\n",
    "autism"
   ]
  },
  {
   "cell_type": "markdown",
   "id": "d6f68535",
   "metadata": {},
   "source": [
    "## Data Cleaning"
   ]
  },
  {
   "cell_type": "code",
   "execution_count": 12,
   "id": "095065d7",
   "metadata": {},
   "outputs": [
    {
     "data": {
      "text/html": [
       "<div>\n",
       "<style scoped>\n",
       "    .dataframe tbody tr th:only-of-type {\n",
       "        vertical-align: middle;\n",
       "    }\n",
       "\n",
       "    .dataframe tbody tr th {\n",
       "        vertical-align: top;\n",
       "    }\n",
       "\n",
       "    .dataframe thead th {\n",
       "        text-align: right;\n",
       "    }\n",
       "</style>\n",
       "<table border=\"1\" class=\"dataframe\">\n",
       "  <thead>\n",
       "    <tr style=\"text-align: right;\">\n",
       "      <th></th>\n",
       "      <th>sicdegp_high</th>\n",
       "      <th>sicdegp_low</th>\n",
       "      <th>sicdegp_med</th>\n",
       "      <th>gender_female</th>\n",
       "      <th>gender_male</th>\n",
       "      <th>race_nonwhite</th>\n",
       "      <th>race_white</th>\n",
       "      <th>age</th>\n",
       "      <th>vsae</th>\n",
       "    </tr>\n",
       "  </thead>\n",
       "  <tbody>\n",
       "    <tr>\n",
       "      <th>0</th>\n",
       "      <td>1</td>\n",
       "      <td>0</td>\n",
       "      <td>0</td>\n",
       "      <td>0</td>\n",
       "      <td>1</td>\n",
       "      <td>0</td>\n",
       "      <td>1</td>\n",
       "      <td>0.000000</td>\n",
       "      <td>0.025381</td>\n",
       "    </tr>\n",
       "    <tr>\n",
       "      <th>1</th>\n",
       "      <td>1</td>\n",
       "      <td>0</td>\n",
       "      <td>0</td>\n",
       "      <td>0</td>\n",
       "      <td>1</td>\n",
       "      <td>0</td>\n",
       "      <td>1</td>\n",
       "      <td>0.090909</td>\n",
       "      <td>0.030457</td>\n",
       "    </tr>\n",
       "    <tr>\n",
       "      <th>2</th>\n",
       "      <td>1</td>\n",
       "      <td>0</td>\n",
       "      <td>0</td>\n",
       "      <td>0</td>\n",
       "      <td>1</td>\n",
       "      <td>0</td>\n",
       "      <td>1</td>\n",
       "      <td>0.272727</td>\n",
       "      <td>0.086294</td>\n",
       "    </tr>\n",
       "    <tr>\n",
       "      <th>3</th>\n",
       "      <td>1</td>\n",
       "      <td>0</td>\n",
       "      <td>0</td>\n",
       "      <td>0</td>\n",
       "      <td>1</td>\n",
       "      <td>0</td>\n",
       "      <td>1</td>\n",
       "      <td>0.636364</td>\n",
       "      <td>0.121827</td>\n",
       "    </tr>\n",
       "    <tr>\n",
       "      <th>4</th>\n",
       "      <td>1</td>\n",
       "      <td>0</td>\n",
       "      <td>0</td>\n",
       "      <td>0</td>\n",
       "      <td>1</td>\n",
       "      <td>0</td>\n",
       "      <td>1</td>\n",
       "      <td>1.000000</td>\n",
       "      <td>0.131980</td>\n",
       "    </tr>\n",
       "  </tbody>\n",
       "</table>\n",
       "</div>"
      ],
      "text/plain": [
       "   sicdegp_high  sicdegp_low  sicdegp_med  gender_female  gender_male  \\\n",
       "0             1            0            0              0            1   \n",
       "1             1            0            0              0            1   \n",
       "2             1            0            0              0            1   \n",
       "3             1            0            0              0            1   \n",
       "4             1            0            0              0            1   \n",
       "\n",
       "   race_nonwhite  race_white       age      vsae  \n",
       "0              0           1  0.000000  0.025381  \n",
       "1              0           1  0.090909  0.030457  \n",
       "2              0           1  0.272727  0.086294  \n",
       "3              0           1  0.636364  0.121827  \n",
       "4              0           1  1.000000  0.131980  "
      ]
     },
     "execution_count": 12,
     "metadata": {},
     "output_type": "execute_result"
    }
   ],
   "source": [
    "mm = MinMaxScaler() # Fit a Scaler\n",
    "\n",
    "cleaned_autism = pd.get_dummies(autism[['sicdegp', 'gender', 'race']]) # Get dummies for categorical\n",
    "mm.fit(autism[['age2', 'vsae']]) # Scale the two numeric variables\n",
    "cleaned_autism[['age', 'vsae']] = mm.transform(autism[['age2', 'vsae']])\n",
    "# For the sake of simplicity, coding outcome variable as 1 for autism, and PDD as 0\n",
    "y = autism['bestest2'].apply(lambda x : 1 if x == 'autism' else 0)\n",
    "X = cleaned_autism.values\n",
    "cleaned_autism.head(5)"
   ]
  },
  {
   "cell_type": "markdown",
   "id": "b0fb0dec",
   "metadata": {},
   "source": [
    "### Train Test Split"
   ]
  },
  {
   "cell_type": "code",
   "execution_count": null,
   "id": "d294ae96",
   "metadata": {},
   "outputs": [],
   "source": [
    "X_train, X_test, y_train, y_test = train_test_split(X, y, test_size = .3)"
   ]
  },
  {
   "cell_type": "markdown",
   "id": "b450162f",
   "metadata": {},
   "source": [
    "## Model Training\n",
    "### Basic Models"
   ]
  },
  {
   "cell_type": "code",
   "execution_count": null,
   "id": "920e9bcd",
   "metadata": {},
   "outputs": [],
   "source": [
    "# Decision Tree\n",
    "clf = tree.DecisionTreeClassifier()\n",
    "clf.fit(X_train,y_train)\n",
    "\n",
    "# Random Forest\n",
    "clf_rf = RandomForestClassifier()\n",
    "clf_rf.fit(X_train, y_train)"
   ]
  },
  {
   "cell_type": "code",
   "execution_count": null,
   "id": "4cbc676a",
   "metadata": {},
   "outputs": [],
   "source": [
    "print('Accuracy before tuning for Decision Tree', clf.score(X_test, y_test))\n",
    "print('Accuracy before tuning for Random Forests', clf_rf.score(X_test, y_test))"
   ]
  },
  {
   "cell_type": "markdown",
   "id": "72cb2185",
   "metadata": {},
   "source": [
    "**Not particularly good results, but lets see if the tuning can do better**"
   ]
  },
  {
   "cell_type": "markdown",
   "id": "33f7d45b",
   "metadata": {},
   "source": [
    "### Tuned Models\n",
    "#### Decision Trees:"
   ]
  },
  {
   "cell_type": "code",
   "execution_count": null,
   "id": "fcf5e91f",
   "metadata": {},
   "outputs": [],
   "source": [
    "clf_param_grid = {'max_depth' : range(1,clf.tree_.max_depth),\n",
    "              'max_features' : [.2, .4, .6, .8]}\n",
    "grid_search = GridSearchCV(clf, clf_param_grid, cv = 8)\n",
    "grid_search.fit(X_train, y_train)\n",
    "print(\"Best Parameters for a CV Decision Tree:\", grid_search.best_params_)"
   ]
  },
  {
   "cell_type": "markdown",
   "id": "6bf30896",
   "metadata": {},
   "source": [
    "#### Random Forests:"
   ]
  },
  {
   "cell_type": "code",
   "execution_count": null,
   "id": "3f45e3a5",
   "metadata": {},
   "outputs": [],
   "source": [
    "clf_rf_param_grid = [{'n_estimators' : [3,10,30], 'max_features' : [2,4,6,8]},\n",
    "              {'bootstrap' : [False], 'n_estimators' : [3,10], 'max_features' : [2,3,4]}]\n",
    "\n",
    "grid_search = GridSearchCV(clf_rf, clf_rf_param_grid, cv = 8)\n",
    "grid_search.fit(X_train, y_train)\n",
    "print(\"Best Parameters for a CV Random Forests Model:\", grid_search.best_params_)"
   ]
  },
  {
   "cell_type": "markdown",
   "id": "4e73d861",
   "metadata": {},
   "source": [
    "## Evaluation"
   ]
  },
  {
   "cell_type": "code",
   "execution_count": null,
   "id": "87982a83",
   "metadata": {},
   "outputs": [],
   "source": [
    "best_clf = tree.DecisionTreeClassifier(max_depth = 5, max_features = 0.4)\n",
    "best_clf.fit(X_train,y_train)\n",
    "print('Accuracy after tuning for Decision Tree', best_clf.score(X_test, y_test))\n",
    "\n",
    "\n",
    "best_clf_rf = RandomForestClassifier(max_features = 2, n_estimators = 10)\n",
    "best_clf_rf.fit(X_train, y_train)\n",
    "print('Accuracy after tuning for Random Forests', best_clf_rf.score(X_test, y_test))"
   ]
  },
  {
   "cell_type": "code",
   "execution_count": null,
   "id": "6057c9e2",
   "metadata": {},
   "outputs": [],
   "source": [
    "best_clf_predictions = best_clf.predict(X_test)\n",
    "print(\"F1 for tuned Decision tree Model:\",sklearn.metrics.f1_score(y_test, best_clf_predictions))\n",
    "print(\"Recall for tuned Decision tree Model:\",sklearn.metrics.recall_score(y_test, best_clf_predictions))"
   ]
  },
  {
   "attachments": {},
   "cell_type": "markdown",
   "id": "a0e371d6",
   "metadata": {},
   "source": [
    "Surprisingly, the random forest model looks like it overfit to the training data more so than the Decision Tree model. We got a considerably better performance after tuning the Decision Tree model, and we got worse after tuning the Random Forest model. Still, 67% isn’t particularly good accuracy. However, we still managed to achieve a very respectable F1 score of 78~% and an 87% Recall score, which is promising if the goal is simply to provide proper assistance to as many diagnosed with autism as possible."
   ]
  }
 ],
 "metadata": {
  "kernelspec": {
   "display_name": "Python 3",
   "language": "python",
   "name": "python3"
  },
  "language_info": {
   "codemirror_mode": {
    "name": "ipython",
    "version": 3
   },
   "file_extension": ".py",
   "mimetype": "text/x-python",
   "name": "python",
   "nbconvert_exporter": "python",
   "pygments_lexer": "ipython3",
   "version": "3.9.5"
  }
 },
 "nbformat": 4,
 "nbformat_minor": 5
}
